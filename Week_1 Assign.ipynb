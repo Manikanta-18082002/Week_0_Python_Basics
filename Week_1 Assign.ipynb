{
 "cells": [
  {
   "cell_type": "markdown",
   "id": "32153957",
   "metadata": {},
   "source": [
    "\n",
    "Q1. Create one variable containing following type of data:\n",
    "(i) string\n",
    "(ii) list\n",
    "(iii) float\n",
    "(iv) tuple\n",
    "'''"
   ]
  },
  {
   "cell_type": "code",
   "execution_count": 2,
   "id": "41701027",
   "metadata": {},
   "outputs": [
    {
     "name": "stdout",
     "output_type": "stream",
     "text": [
      "<class 'str'>\n",
      "<class 'list'>\n",
      "<class 'float'>\n",
      "<class 'tuple'>\n"
     ]
    }
   ],
   "source": [
    "a = 'Mani'\n",
    "print(type(a))\n",
    "\n",
    "b= [34,65,5.7, 'Mani', 'Z', 78, 45]\n",
    "print(type(b))\n",
    "\n",
    "c=23.85\n",
    "print(type(c))\n",
    "\n",
    "d=(23,45,'Kanta', 48)\n",
    "print(type(d))"
   ]
  },
  {
   "cell_type": "code",
   "execution_count": null,
   "id": "544d793b",
   "metadata": {},
   "outputs": [],
   "source": []
  },
  {
   "cell_type": "markdown",
   "id": "2ad1302b",
   "metadata": {},
   "source": [
    "Q2. Given are some following variables containing data:\n",
    "(i) var1 = ‘ ‘\n",
    "(ii) var2 = ‘[ DS , ML , Python]’\n",
    "(iii) var3 = [ ‘DS’ , ’ML’ , ‘Python’ ]\n",
    "(iv) var4 = 1.\n",
    "What will be the data type of the above given variable."
   ]
  },
  {
   "cell_type": "code",
   "execution_count": 3,
   "id": "eae0117c",
   "metadata": {},
   "outputs": [
    {
     "name": "stdout",
     "output_type": "stream",
     "text": [
      "1: str\n",
      "2: str\n",
      "3: list\n",
      "4: int\n"
     ]
    }
   ],
   "source": [
    "print(\"1: str\")\n",
    "print(\"2: str\")\n",
    "print(\"3: list\")\n",
    "print(\"4: int\")"
   ]
  },
  {
   "cell_type": "code",
   "execution_count": null,
   "id": "e232a7bc",
   "metadata": {},
   "outputs": [],
   "source": []
  },
  {
   "cell_type": "markdown",
   "id": "70791a11",
   "metadata": {},
   "source": [
    "Q3. Explain the use5 of the following operators using an example:\n",
    "(i) /\n",
    "(ii) %\n",
    "(iii) //\n",
    "(iv) **"
   ]
  },
  {
   "cell_type": "code",
   "execution_count": 4,
   "id": "b697aa0e",
   "metadata": {},
   "outputs": [
    {
     "name": "stdout",
     "output_type": "stream",
     "text": [
      " / This division operator used to perform operation on values and variables\n",
      "2.0\n",
      "\n",
      "% Is used to find the remainder\n",
      "1\n",
      "\n",
      "// is used to perform the floor division\n",
      "1\n",
      "\n",
      " ** is used to find the Exponent/power of a given number\n",
      "9\n",
      "\n"
     ]
    }
   ],
   "source": [
    "print(\" / This division operator used to perform operation on values and variables\")\n",
    "print(10/5)\n",
    "print()\n",
    "\n",
    "print(\"% Is used to find the remainder\")\n",
    "print(4%3)\n",
    "print()\n",
    "\n",
    "print(\"// is used to perform the floor division\")\n",
    "print(4//3)\n",
    "print()\n",
    "\n",
    "print(\" ** is used to find the Exponent/power of a given number\")\n",
    "print(3**2)\n",
    "print()"
   ]
  },
  {
   "cell_type": "code",
   "execution_count": null,
   "id": "add5da18",
   "metadata": {},
   "outputs": [],
   "source": []
  },
  {
   "cell_type": "markdown",
   "id": "a2cc1576",
   "metadata": {},
   "source": [
    "Q4. Create a list of length 10 of your choice containing multiple types of data. Using for loop print the\n",
    "element and its data type."
   ]
  },
  {
   "cell_type": "code",
   "execution_count": 5,
   "id": "e31d2fd9",
   "metadata": {},
   "outputs": [
    {
     "name": "stdout",
     "output_type": "stream",
     "text": [
      "34 <class 'int'>\n",
      "\n",
      "78 <class 'int'>\n",
      "\n",
      "Mani <class 'str'>\n",
      "\n",
      "4.8 <class 'float'>\n",
      "\n",
      "True <class 'bool'>\n",
      "\n",
      "Kanta <class 'str'>\n",
      "\n",
      "48 <class 'int'>\n",
      "\n",
      "False <class 'bool'>\n",
      "\n",
      "A <class 'str'>\n",
      "\n",
      "4.2 <class 'float'>\n",
      "\n"
     ]
    }
   ],
   "source": [
    "li = [34,78,'Mani', 4.8, True, \"Kanta\", 48, False, \"A\", 4.2]\n",
    "\n",
    "for i in li:\n",
    "    print(i, type(i))\n",
    "    print()\n"
   ]
  },
  {
   "cell_type": "code",
   "execution_count": null,
   "id": "8d6317df",
   "metadata": {},
   "outputs": [],
   "source": []
  },
  {
   "cell_type": "markdown",
   "id": "724490b2",
   "metadata": {},
   "source": [
    "Q5. Using a while loop, verify if the number A is purely divisible by number B and if so then how many\n",
    "times it can be divisible."
   ]
  },
  {
   "cell_type": "code",
   "execution_count": 6,
   "id": "6cd08ca2",
   "metadata": {},
   "outputs": [
    {
     "name": "stdout",
     "output_type": "stream",
     "text": [
      "Enter the number A: 6\n",
      "Enter the number B: 2\n",
      "3.0 is not purely divisible by 2\n"
     ]
    }
   ],
   "source": [
    "A = int(input(\"Enter the number A: \"))\n",
    "B = int(input(\"Enter the number B: \"))\n",
    "\n",
    "# Initializing a count variable to keep track of how many times A can be divided by B\n",
    "count = 0\n",
    "\n",
    "# Using a while loop to check if A is divisible by B\n",
    "while A % B == 0:\n",
    "    A = A / B # Dividing A by B and updating A\n",
    "    count += 1 # Incrementing the count\n",
    "\n",
    "# Check if A has become 1 (purely divisible) and print the count\n",
    "if A == 1:\n",
    "    print(f\"{A} is purely divisible by {B} , {count} times\")\n",
    "else:\n",
    "    print(f\"{A} is not purely divisible by {B}\")\n"
   ]
  },
  {
   "cell_type": "code",
   "execution_count": null,
   "id": "834e4b3b",
   "metadata": {},
   "outputs": [],
   "source": []
  },
  {
   "cell_type": "markdown",
   "id": "c54384d4",
   "metadata": {},
   "source": [
    "Q6. Create a list containing 25 int type data. Using for loop and if-else condition print if the element is\n",
    "divisible by 3 or not."
   ]
  },
  {
   "cell_type": "code",
   "execution_count": 7,
   "id": "bac414df",
   "metadata": {},
   "outputs": [
    {
     "name": "stdout",
     "output_type": "stream",
     "text": [
      "12 is divisible by 3 \n",
      "45 is divisible by 3 \n",
      "78 is divisible by 3 \n",
      "32 is not divisible by 3\n",
      "8 is not divisible by 3\n",
      "56 is not divisible by 3\n",
      "12 is divisible by 3 \n",
      "87 is divisible by 3 \n",
      "20 is not divisible by 3\n",
      "15 is divisible by 3 \n",
      "30 is divisible by 3 \n",
      "45 is divisible by 3 \n",
      "48 is divisible by 3 \n",
      "95 is not divisible by 3\n",
      "15 is divisible by 3 \n",
      "65 is not divisible by 3\n",
      "14 is not divisible by 3\n",
      "48 is divisible by 3 \n",
      "32 is not divisible by 3\n",
      "51 is divisible by 3 \n"
     ]
    }
   ],
   "source": [
    "li = [12,45,78,32,8,56,12,87,20,15,30,45,48,95,15,65,14,48,32,51]\n",
    "\n",
    "for i in li:\n",
    "    if i%3 ==0:\n",
    "        print(\"{} is divisible by 3 \".format(i))\n",
    "    else:\n",
    "        print(\"{} is not divisible by 3\".format(i))"
   ]
  },
  {
   "cell_type": "code",
   "execution_count": null,
   "id": "dd87bf1d",
   "metadata": {},
   "outputs": [],
   "source": []
  },
  {
   "cell_type": "markdown",
   "id": "0527c35a",
   "metadata": {},
   "source": [
    "Q7. What do you understand about mutable and immutable data types? Give examples for both showing\n",
    "this property."
   ]
  },
  {
   "cell_type": "code",
   "execution_count": 8,
   "id": "3c94747c",
   "metadata": {},
   "outputs": [
    {
     "name": "stdout",
     "output_type": "stream",
     "text": [
      "Mutuable Example: \n"
     ]
    },
    {
     "data": {
      "text/plain": [
       "[2, 12, 100]"
      ]
     },
     "execution_count": 8,
     "metadata": {},
     "output_type": "execute_result"
    }
   ],
   "source": [
    "#Mutable\n",
    "# Mutable means their value can be changed in place without creating new Obj\n",
    "\n",
    "print(\"Mutuable Example: \")\n",
    "li = [2,12,43]\n",
    "li[2] = 100\n",
    "li\n"
   ]
  },
  {
   "cell_type": "code",
   "execution_count": 11,
   "id": "c87a46b7",
   "metadata": {},
   "outputs": [
    {
     "name": "stdout",
     "output_type": "stream",
     "text": [
      "Immutable Example: \n"
     ]
    },
    {
     "data": {
      "text/plain": [
       "'Kanta'"
      ]
     },
     "execution_count": 11,
     "metadata": {},
     "output_type": "execute_result"
    }
   ],
   "source": [
    "#Immtable\n",
    "#Immutable means those values cannot be changed after they are created\n",
    "\n",
    "print(\"Immutable Example: \")\n",
    "name = 'Mani'\n",
    "name = 'Kanta'\n",
    "name"
   ]
  },
  {
   "cell_type": "code",
   "execution_count": null,
   "id": "b28a97ee",
   "metadata": {},
   "outputs": [],
   "source": []
  }
 ],
 "metadata": {
  "kernelspec": {
   "display_name": "Python 3 (ipykernel)",
   "language": "python",
   "name": "python3"
  },
  "language_info": {
   "codemirror_mode": {
    "name": "ipython",
    "version": 3
   },
   "file_extension": ".py",
   "mimetype": "text/x-python",
   "name": "python",
   "nbconvert_exporter": "python",
   "pygments_lexer": "ipython3",
   "version": "3.11.4"
  }
 },
 "nbformat": 4,
 "nbformat_minor": 5
}
